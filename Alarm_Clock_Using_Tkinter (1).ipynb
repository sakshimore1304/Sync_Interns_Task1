{
 "cells": [
  {
   "cell_type": "markdown",
   "id": "334f5ab1",
   "metadata": {},
   "source": [
    "# ALARM CLOCK "
   ]
  },
  {
   "cell_type": "markdown",
   "id": "66f3f000",
   "metadata": {},
   "source": [
    "### USING TKINTER MODULE FROM PYTHON"
   ]
  },
  {
   "cell_type": "markdown",
   "id": "8b5e92eb",
   "metadata": {},
   "source": [
    "#### This project is done by - Sakshi K More"
   ]
  },
  {
   "cell_type": "markdown",
   "id": "b532c9bd",
   "metadata": {},
   "source": [
    "#### importing all the necessary libraries for the project"
   ]
  },
  {
   "cell_type": "code",
   "execution_count": 1,
   "id": "7f9b76a7",
   "metadata": {},
   "outputs": [
    {
     "name": "stdout",
     "output_type": "stream",
     "text": [
      "pygame 2.5.0 (SDL 2.28.0, Python 3.8.8)\n",
      "Hello from the pygame community. https://www.pygame.org/contribute.html\n"
     ]
    }
   ],
   "source": [
    "import pandas as pd\n",
    "import numpy as np\n",
    "import time\n",
    "import datetime\n",
    "from tkinter import *\n",
    "import tkinter as tk\n",
    "from tkinter import messagebox\n",
    "import timer\n",
    "import sys\n",
    "from pygame import mixer\n",
    "from threading import *\n",
    "from playsound import playsound\n"
   ]
  },
  {
   "cell_type": "markdown",
   "id": "98e51d48",
   "metadata": {},
   "source": [
    "#### set alarm window"
   ]
  },
  {
   "cell_type": "code",
   "execution_count": 2,
   "id": "a7246522",
   "metadata": {},
   "outputs": [],
   "source": [
    "#initiate a function for alarm setting\n",
    "def alarm_window():\n",
    "    \n",
    "    window1=Tk() #initiating a new window for the alarn clock setting\n",
    "    emoji = \"\\u23F0\"#alarm emoji\n",
    "    window1.title('ALARM CLOCK'+emoji)#title for window\n",
    "    window1.minsize(width=500,height=500)#size of window\n",
    "    window1.configure(bg='black')#background of window\n",
    "    l1=Label(window1,text='Please set your alarm clock '+emoji,bg='black',fg='green',font=('Arial',15))\n",
    "    l1.place(x=120,y=80)\n",
    "    l2=Label(window1,text='Enter Time'+emoji,bg='black',fg='green',font=('Arial',15))\n",
    "    l2.place(x=180,y=140)\n",
    "    global e1,e2\n",
    "    hours=Label(window1,text=\"Enter Hour\",fg='#FD349C',bg='black')\n",
    "    hours.place(x=100,y=200)\n",
    "    e1=Entry(window1,relief=GROOVE)#to enter hour for alarm\n",
    "    e1.place(x=100,y=230)\n",
    "    minutes=Label(window1,text=\"At what minute\",fg='#FD349C',bg='black')\n",
    "    minutes.place(x=100,y=280)\n",
    "    e2=Entry(window1,relief=GROOVE)#to enter minutes for window\n",
    "    e2.place(x=100,y=310)\n",
    "    #set button\n",
    "    b3=Button(window1,text='Set alarm',width=10,height=2,relief=GROOVE,bg='#E799A3')\n",
    "    b3.place(x=230,y=350)\n",
    "    b3.bind(\"<Button-1>\",alarm_begin)#link the button with the alarm setting\n",
    "    b4=Button(window1,text='Cancel',width=10,height=2,command=window1.destroy,bg='#E799A3')\n",
    "    b4.place(x=230,y=400)#this button will close the window after clicking\n",
    "def alarm_begin(event):\n",
    "    global e1,e2\n",
    "    h=e1.get()\n",
    "    m=e2.get()\n",
    "    while(1):\n",
    "        if(int(h)==datetime.datetime.now().hour and int(m)==datetime.datetime.now().minute):\n",
    "            playsound('alarm-clock-short-6402.mp3') #if alarm time matches current time then the alarm will ring\n",
    "            messagebox.showinfo(\"Alarm\",\"Time's up!\") #this message will pop up\n",
    "            break\n",
    "    \n",
    "    window1.mainloop()"
   ]
  },
  {
   "cell_type": "markdown",
   "id": "aa76380d",
   "metadata": {},
   "source": [
    "#### creating a window for timer"
   ]
  },
  {
   "cell_type": "code",
   "execution_count": 3,
   "id": "c716835e",
   "metadata": {},
   "outputs": [],
   "source": [
    "emoji2 = '\\u23F3'\n",
    "def timer_window():\n",
    "    \n",
    "    window2=Tk()#initiating a new window for the alarn clock setting\n",
    "    emoji1 =\"\\u23f1\" #alarm emoji\n",
    "    window2.title('STOPWATCH'+emoji1)#title for window\n",
    "    window2.minsize(width=500,height=500)\n",
    "    window2.configure(bg='black')\n",
    "    l2=Label(window2,text='Please set your Timer '+emoji1,bg='black',fg='#FD349C',font=('Arial',15))\n",
    "    l2.place(x=120,y=100)\n",
    "    label1=Label(window2,text=\"\"+emoji2,bg='black',fg='yellow',font=('Arial',50))\n",
    "    label1.place(x=200,y=150)\n",
    "    label =Label(window2, text=\"00:00:00\", font=(\"Arial\", 35),bg='black',fg='yellow')\n",
    "    label.place(x=150,y=250)#setting default time for the timer\n",
    "    \n",
    "    #this function extracts the current time \n",
    "    def start_stopwatch():\n",
    "        global start_time\n",
    "        start_time = datetime.datetime.now()\n",
    "        update_stopwatch()\n",
    "        \n",
    "    #subract current time with the previous start time    \n",
    "    def update_stopwatch():\n",
    "        current_time = datetime.datetime.now() - start_time\n",
    "        label.config(text=str(current_time))\n",
    "        label.after(10, update_stopwatch)\n",
    "    \n",
    "\n",
    "    \n",
    "    start_button =Button(window2, text=\"Start\",width=10,height=2, command=start_stopwatch,bg='#E799A3')\n",
    "    start_button.place(x=200,y=300)\n",
    "    \n",
    "    stop_button=Button(window2,text=\"Stop\",width=10,height=2,command=window2.destroy,bg='#E799A3')\n",
    "    stop_button.place(x=200,y=370)#this button will close the window\n",
    "    window2.mainloop()"
   ]
  },
  {
   "cell_type": "markdown",
   "id": "74bd8b3e",
   "metadata": {},
   "source": [
    "#### Lets create a main window for the alarm clock"
   ]
  },
  {
   "cell_type": "code",
   "execution_count": null,
   "id": "ab499d35",
   "metadata": {},
   "outputs": [
    {
     "name": "stderr",
     "output_type": "stream",
     "text": [
      "Exception in Tkinter callback\n",
      "Traceback (most recent call last):\n",
      "  File \"C:\\ProgramData\\Anaconda3\\lib\\tkinter\\__init__.py\", line 1892, in __call__\n",
      "    return self.func(*args)\n",
      "  File \"<ipython-input-2-f4485f8df0b5>\", line 38, in alarm_begin\n",
      "    window1.mainloop()\n",
      "NameError: name 'window1' is not defined\n"
     ]
    }
   ],
   "source": [
    "window=Tk()#initiate the window\n",
    "emoji = \"\\u23F0\"#alarm emoji\n",
    "emoji1=\"\\u23f1\" #for stopwatch emoji\n",
    "window.title('ALARM CLOCK'+emoji)#title for window\n",
    "window.minsize(width=500,height=500)#size of the window\n",
    "window.configure(bg='black')#background of window\n",
    "label=Label(window,text=\"Hello Friend!\",fg=\"#FF007F\",bg=\"black\",font=('Caprasimo',30))\n",
    "label.place(x=140,y=50)#label and its placement\n",
    "text=time.strftime(\"%H:%M:%S\") # getting the current time\n",
    "#for current timer\n",
    "def start():\n",
    "    text=time.strftime(\"%H:%M:%S\")\n",
    "    l.config(text=text)\n",
    "    l.after(200,start)\n",
    "l=Label(window,text=text,fg=\"yellow\",bg=\"black\",font=('Caprasimo',50,'bold'))#add timer as label\n",
    "l2=Label(window,text=\"Current time\",bg='black',fg='#FF007F',font=('Caprasimo',20))\n",
    "l.place(x=120,y=200)#alignment\n",
    "l2.place(x=180,y=140)\n",
    "b1=Button(window,text='Stopwatch'+emoji1,width=10,height=2,command=timer_window,bg='#E799A3')#creating button\n",
    "b2=Button(window,text='Set Alarm'+emoji,width=10,height=2,command=alarm_window,bg='#E799A3')\n",
    "b1.place(x=350,y=300)\n",
    "b2.place(x=100,y=300)\n",
    "start()#call the function\n",
    "window.mainloop()#run main window in loop\n",
    "\n",
    "\n",
    "\n",
    "\n",
    "    "
   ]
  },
  {
   "cell_type": "code",
   "execution_count": null,
   "id": "a385d20f",
   "metadata": {},
   "outputs": [],
   "source": []
  },
  {
   "cell_type": "code",
   "execution_count": null,
   "id": "c918a9b4",
   "metadata": {},
   "outputs": [],
   "source": []
  }
 ],
 "metadata": {
  "kernelspec": {
   "display_name": "Python 3",
   "language": "python",
   "name": "python3"
  },
  "language_info": {
   "codemirror_mode": {
    "name": "ipython",
    "version": 3
   },
   "file_extension": ".py",
   "mimetype": "text/x-python",
   "name": "python",
   "nbconvert_exporter": "python",
   "pygments_lexer": "ipython3",
   "version": "3.8.8"
  }
 },
 "nbformat": 4,
 "nbformat_minor": 5
}
